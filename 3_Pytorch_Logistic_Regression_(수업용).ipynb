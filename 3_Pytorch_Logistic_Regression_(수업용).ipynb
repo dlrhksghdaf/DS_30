{
  "nbformat": 4,
  "nbformat_minor": 0,
  "metadata": {
    "colab": {
      "provenance": [],
      "collapsed_sections": [],
      "include_colab_link": true
    },
    "kernelspec": {
      "name": "python3",
      "display_name": "Python 3"
    },
    "accelerator": "GPU"
  },
  "cells": [
    {
      "cell_type": "markdown",
      "metadata": {
        "id": "view-in-github",
        "colab_type": "text"
      },
      "source": [
        "<a href=\"https://colab.research.google.com/github/dlrhksghdaf/DS_30/blob/main/3_Pytorch_Logistic_Regression_(%EC%88%98%EC%97%85%EC%9A%A9).ipynb\" target=\"_parent\"><img src=\"https://colab.research.google.com/assets/colab-badge.svg\" alt=\"Open In Colab\"/></a>"
      ]
    },
    {
      "cell_type": "markdown",
      "metadata": {
        "id": "2Sw1wmtTYHgG"
      },
      "source": [
        "# Logistic Regression"
      ]
    },
    {
      "cell_type": "markdown",
      "metadata": {
        "id": "lcfBQrwEYNkD"
      },
      "source": [
        "## 1. Binary Classification"
      ]
    },
    {
      "cell_type": "markdown",
      "metadata": {
        "id": "u568D7P_-qaO"
      },
      "source": [
        "|score($x$)|result($y$)|\n",
        "|-----|---|\n",
        "|45|Fail|\n",
        "|50|Fail|\n",
        "|55|Fail|\n",
        "|60|Pass|\n",
        "|65|Pass|\n",
        "|70|Pass|"
      ]
    },
    {
      "cell_type": "code",
      "metadata": {
        "id": "D1IQgHpHYAKl",
        "colab": {
          "base_uri": "https://localhost:8080/",
          "height": 265
        },
        "outputId": "92764789-3b69-4aaa-9817-7b75de244174"
      },
      "source": [
        "%matplotlib inline\n",
        "import matplotlib.pyplot as plt\n",
        "x = [45, 50, 55, 60, 65, 70]\n",
        "y = [0, 0, 0, 1, 1, 1]\n",
        "\n",
        "plt.plot(x, y, marker='o')\n",
        "plt.grid()\n",
        "plt.show()"
      ],
      "execution_count": null,
      "outputs": [
        {
          "output_type": "display_data",
          "data": {
            "image/png": "[encoded data removed]",
            "text/plain": [
              "<Figure size 432x288 with 1 Axes>"
            ]
          },
          "metadata": {
            "tags": [],
            "needs_background": "light"
          }
        }
      ]
    },
    {
      "cell_type": "markdown",
      "metadata": {
        "id": "ooFMt-qWAOCb"
      },
      "source": [
        "이러한 관계를 모델링 하기 위해서 Linear Regression에서 사용 했던 $H(\\mathbf{x}) = \\mathbf{w}\\cdot\\mathbf{x} + b$에 sigmoid 함수 $\\sigma(\\cdot)$을 적용해서 새로운 $H$를 정의 한다.\n",
        "\n",
        "따라서 새로운 $H(\\mathbf{x})$는 다음과 같다.\n",
        "$$H(\\mathbf{x})=\\sigma(\\mathbf{w}\\cdot\\mathbf{x}+ b)$$\n",
        "\n",
        "Sigmoid 함수는 다음과 같다.\n",
        "$$\\sigma(x) = \\frac{1}{1+ e^{-x}}=\\frac{e^x}{e^x+1}$$"
      ]
    },
    {
      "cell_type": "markdown",
      "metadata": {
        "id": "2cGJO-7vF9qZ"
      },
      "source": [
        "## 2. Sigmoid Function"
      ]
    },
    {
      "cell_type": "code",
      "metadata": {
        "id": "ccA7AJkU_i7U"
      },
      "source": [
        "# plt.axhline(y=0.5, color='red', linewidth=1.5)\n",
        "import numpy as np\n",
        "def sigmoid(x): # 시그모이드 함수 정의\n",
        "    return 1/(1+np.exp(-x))"
      ],
      "execution_count": null,
      "outputs": []
    },
    {
      "cell_type": "code",
      "metadata": {
        "id": "c8RDXKMnB6EQ",
        "colab": {
          "base_uri": "https://localhost:8080/",
          "height": 281
        },
        "outputId": "68437b9d-2d5f-40a9-be3b-6cdcd336e284"
      },
      "source": [
        "x = np.arange(-5.0, 5.0, 0.1)\n",
        "y = sigmoid(x)\n",
        "plt.plot(x, y, 'coral')\n",
        "plt.plot([0, 0], [0, 1.0], ':')\n",
        "plt.title('sigmoid function')\n",
        "plt.grid()\n",
        "plt.show()"
      ],
      "execution_count": null,
      "outputs": [
        {
          "output_type": "display_data",
          "data": {
            "image/png": "[encoded data removed]",
            "text/plain": [
              "<Figure size 432x288 with 1 Axes>"
            ]
          },
          "metadata": {
            "tags": [],
            "needs_background": "light"
          }
        }
      ]
    },
    {
      "cell_type": "code",
      "metadata": {
        "id": "gbsLT3a3CFNO",
        "colab": {
          "base_uri": "https://localhost:8080/",
          "height": 281
        },
        "outputId": "ef44fbfc-f6bb-4fa8-dfec-258a8be5d260"
      },
      "source": [
        "x = np.arange(-5.0, 5.0, 0.1)\n",
        "y1 = sigmoid(0.5*x)\n",
        "y2 = sigmoid(x)\n",
        "y3 = sigmoid(2*x)\n",
        "\n",
        "plt.plot(x, y1, 'darkviolet', linestyle='--') # W의 값이 0.5일때\n",
        "plt.plot(x, y2, 'coral') # W의 값이 1일때\n",
        "plt.plot(x, y3, 'forestgreen', linestyle='--') # W의 값이 2일때\n",
        "plt.plot([0,0],[1.0,0.0], ':') # 가운데 점선 추가\n",
        "plt.title('Sigmoid Function')\n",
        "plt.grid()\n",
        "plt.show()"
      ],
      "execution_count": null,
      "outputs": [
        {
          "output_type": "display_data",
          "data": {
            "image/png": "[encoded data removed]",
            "text/plain": [
              "<Figure size 432x288 with 1 Axes>"
            ]
          },
          "metadata": {
            "tags": [],
            "needs_background": "light"
          }
        }
      ]
    },
    {
      "cell_type": "code",
      "metadata": {
        "id": "x3CZ3EeDEs1H",
        "colab": {
          "base_uri": "https://localhost:8080/",
          "height": 281
        },
        "outputId": "c5cb6472-2058-47b3-91aa-659d7cd8c1ce"
      },
      "source": [
        "x = np.arange(-5.0, 5.0, 0.1)\n",
        "y0 = sigmoid(x)\n",
        "y1 = sigmoid(x+0.5)\n",
        "y2 = sigmoid(x+1)\n",
        "y3 = sigmoid(x+1.5)\n",
        "\n",
        "plt.plot(x, y0, 'coral') # x\n",
        "plt.plot(x, y1, 'darkviolet', linestyle='--') # x + 0.5\n",
        "plt.plot(x, y2, 'forestgreen', linestyle='--') # x + 1\n",
        "plt.plot(x, y3, 'navy', linestyle='--') # x + 1.5\n",
        "plt.plot([0,0],[1.0,0.0], ':') # 가운데 점선 추가\n",
        "plt.title('Sigmoid Function')\n",
        "plt.grid()\n",
        "plt.show()"
      ],
      "execution_count": null,
      "outputs": [
        {
          "output_type": "display_data",
          "data": {
            "image/png": "[encoded data removed]",
            "text/plain": [
              "<Figure size 432x288 with 1 Axes>"
            ]
          },
          "metadata": {
            "tags": [],
            "needs_background": "light"
          }
        }
      ]
    },
    {
      "cell_type": "markdown",
      "metadata": {
        "id": "1H5J0rlPF1OC"
      },
      "source": [
        "## 3. Cost function"
      ]
    },
    {
      "cell_type": "markdown",
      "metadata": {
        "id": "lDOKOLzAGtCb"
      },
      "source": [
        "Binary Classification을 위해서는 $y=1$인 경우에 예측 값 $H(\\mathbf{x})$ (class가 1일 확률) 이 0에 가까우면 오차가 커야 하고 $y=0$인 경우에 예측값 $H(\\mathbf{x})$ (class가 1일 확률)이 1에 가까우면 오차가 커야 한다."
      ]
    },
    {
      "cell_type": "code",
      "metadata": {
        "id": "b3mHJCLvFl2m",
        "colab": {
          "base_uri": "https://localhost:8080/",
          "height": 337
        },
        "outputId": "46558b1a-9188-45d5-e14d-383ca1f18058"
      },
      "source": [
        "x = np.arange(0, 1, 0.01)\n",
        "plt.plot(x, -np.log(x), label='$-log(H(x))$')\n",
        "plt.plot(x, -np.log(1-x), label='$-log(1-H(x))$')\n",
        "plt.xlabel('$H(x)$')\n",
        "plt.ylabel('cost')\n",
        "plt.legend()\n",
        "plt.grid()"
      ],
      "execution_count": null,
      "outputs": [
        {
          "output_type": "stream",
          "text": [
            "/usr/local/lib/python3.6/dist-packages/ipykernel_launcher.py:2: RuntimeWarning: divide by zero encountered in log\n",
            "  \n"
          ],
          "name": "stderr"
        },
        {
          "output_type": "display_data",
          "data": {
            "image/png": "[encoded data removed]",
            "text/plain": [
              "<Figure size 432x288 with 1 Axes>"
            ]
          },
          "metadata": {
            "tags": [],
            "needs_background": "light"
          }
        }
      ]
    },
    {
      "cell_type": "markdown",
      "metadata": {
        "id": "MZ-px4-MIxzh"
      },
      "source": [
        "$$\\mathcal{L}(H(x), y)=-[y\\log H(x) + (1-y)\\log(1-H(x)]$$\n",
        "$$\\mathcal{L}(W)=-\\frac{1}{N}\\sum_{i=1}^{n}[y^{i}\\log H(x^i)+(1-y^i)\\log (1-H(x^i))]$$"
      ]
    },
    {
      "cell_type": "markdown",
      "metadata": {
        "id": "exmRRZ9xPbtr"
      },
      "source": [
        "## 4. Logistic Regression with Pytorch"
      ]
    },
    {
      "cell_type": "markdown",
      "metadata": {
        "id": "Jt005GUqXIg9"
      },
      "source": [
        "### 4.1. 기본 구현"
      ]
    },
    {
      "cell_type": "code",
      "metadata": {
        "id": "nU_c6VeMH1wo"
      },
      "source": [
        "import torch\n",
        "import torch.nn as nn\n",
        "import torch.nn.functional as F\n",
        "import torch.optim as optim"
      ],
      "execution_count": null,
      "outputs": []
    },
    {
      "cell_type": "code",
      "metadata": {
        "id": "Y6l3UxEbPgde"
      },
      "source": [
        "x_data = [[1, 2], [2, 3], [3, 1], [4, 3], [5, 3], [6, 2]]\n",
        "y_data = [[0], [0], [0], [1], [1], [1]]\n",
        "x_train = torch.FloatTensor(x_data)\n",
        "y_train = torch.FloatTensor(y_data)"
      ],
      "execution_count": null,
      "outputs": []
    },
    {
      "cell_type": "code",
      "metadata": {
        "id": "6aHqNs8TPhxM",
        "colab": {
          "base_uri": "https://localhost:8080/"
        },
        "outputId": "b72274c0-fc48-4ec6-eee0-255177466ce1"
      },
      "source": [
        "print(x_train.shape)\n",
        "print(y_train.shape)"
      ],
      "execution_count": null,
      "outputs": [
        {
          "output_type": "stream",
          "text": [
            "torch.Size([6, 2])\n",
            "torch.Size([6, 1])\n"
          ],
          "name": "stdout"
        }
      ]
    },
    {
      "cell_type": "code",
      "metadata": {
        "id": "AABULr-HPjPd"
      },
      "source": [
        "W = torch.zeros((2, 1), requires_grad=True) # 크기는 2 x 1\n",
        "b = torch.zeros(1, requires_grad=True)"
      ],
      "execution_count": null,
      "outputs": []
    },
    {
      "cell_type": "code",
      "metadata": {
        "id": "IkN74GkQPl7G"
      },
      "source": [
        "hypothesis = 1 / (1 + torch.exp(-(x_train.matmul(W) + b)))"
      ],
      "execution_count": null,
      "outputs": []
    },
    {
      "cell_type": "code",
      "metadata": {
        "id": "89mQqcFUPnal",
        "colab": {
          "base_uri": "https://localhost:8080/"
        },
        "outputId": "e98a8b79-b795-46a0-bffb-08e742e182d5"
      },
      "source": [
        "print(hypothesis) # 예측값인 H(x) 출력"
      ],
      "execution_count": null,
      "outputs": [
        {
          "output_type": "stream",
          "text": [
            "tensor([[0.5000],\n",
            "        [0.5000],\n",
            "        [0.5000],\n",
            "        [0.5000],\n",
            "        [0.5000],\n",
            "        [0.5000]], grad_fn=<MulBackward0>)\n"
          ],
          "name": "stdout"
        }
      ]
    },
    {
      "cell_type": "code",
      "metadata": {
        "id": "UM40dutSPpI-",
        "colab": {
          "base_uri": "https://localhost:8080/",
          "height": 198
        },
        "outputId": "c514e663-7b49-4427-ca35-1eb86f3df591"
      },
      "source": [
        "losses = -(y_train * torch.log(hypothesis) + \n",
        "           (1 - y_train) * torch.log(1 - hypothesis))\n",
        "print(losses)"
      ],
      "execution_count": null,
      "outputs": [
        {
          "output_type": "error",
          "ename": "NameError",
          "evalue": "ignored",
          "traceback": [
            "\u001b[0;31m---------------------------------------------------------------------------\u001b[0m",
            "\u001b[0;31mNameError\u001b[0m                                 Traceback (most recent call last)",
            "\u001b[0;32m<ipython-input-1-7b75ac9cccc5>\u001b[0m in \u001b[0;36m<module>\u001b[0;34m()\u001b[0m\n\u001b[0;32m----> 1\u001b[0;31m losses = -(y_train * torch.log(hypothesis) + \n\u001b[0m\u001b[1;32m      2\u001b[0m            (1 - y_train) * torch.log(1 - hypothesis))\n\u001b[1;32m      3\u001b[0m \u001b[0mprint\u001b[0m\u001b[0;34m(\u001b[0m\u001b[0mlosses\u001b[0m\u001b[0;34m)\u001b[0m\u001b[0;34m\u001b[0m\u001b[0;34m\u001b[0m\u001b[0m\n",
            "\u001b[0;31mNameError\u001b[0m: name 'y_train' is not defined"
          ]
        }
      ]
    },
    {
      "cell_type": "code",
      "metadata": {
        "id": "-FrYQofwPxM-",
        "colab": {
          "base_uri": "https://localhost:8080/"
        },
        "outputId": "4c95620c-8fec-4e2f-8778-268fa8be3a9b"
      },
      "source": [
        "cost = losses.mean()\n",
        "print(cost)"
      ],
      "execution_count": null,
      "outputs": [
        {
          "output_type": "stream",
          "text": [
            "tensor(0.6931, grad_fn=<MeanBackward0>)\n"
          ],
          "name": "stdout"
        }
      ]
    },
    {
      "cell_type": "code",
      "metadata": {
        "id": "8UjNkd0iP1Q-",
        "colab": {
          "base_uri": "https://localhost:8080/"
        },
        "outputId": "83c3f8ab-7826-4098-a955-6299922026e9"
      },
      "source": [
        "# pytorch library에서 제공하는 loss\n",
        "F.binary_cross_entropy(hypothesis, y_train)"
      ],
      "execution_count": null,
      "outputs": [
        {
          "output_type": "execute_result",
          "data": {
            "text/plain": [
              "tensor(0.6931, grad_fn=<BinaryCrossEntropyBackward>)"
            ]
          },
          "metadata": {
            "tags": []
          },
          "execution_count": 15
        }
      ]
    },
    {
      "cell_type": "markdown",
      "metadata": {
        "id": "nzmEmnfMQA3q"
      },
      "source": [
        "전체 코드"
      ]
    },
    {
      "cell_type": "code",
      "metadata": {
        "id": "zzZ0CNhGP8w0"
      },
      "source": [
        "x_data = [[1, 2], [2, 3], [3, 1], [4, 3], [5, 3], [6, 2]]\n",
        "y_data = [[0], [0], [0], [1], [1], [1]]\n",
        "x_train = torch.FloatTensor(x_data)\n",
        "y_train = torch.FloatTensor(y_data)"
      ],
      "execution_count": null,
      "outputs": []
    },
    {
      "cell_type": "code",
      "metadata": {
        "id": "f8WbJTPYQCHO",
        "colab": {
          "base_uri": "https://localhost:8080/"
        },
        "outputId": "775ed678-771e-43ee-8b07-c125b142b8d9"
      },
      "source": [
        "# 모델 초기화\n",
        "W = torch.zeros((2, 1), requires_grad=True)\n",
        "b = torch.zeros(1, requires_grad=True)\n",
        "# optimizer 설정\n",
        "optimizer = optim.SGD([W, b], lr=1)\n",
        "\n",
        "nb_epochs = 1000\n",
        "for epoch in range(nb_epochs + 1):\n",
        "\n",
        "    # Cost 계산\n",
        "    hypothesis = torch.sigmoid(x_train.matmul(W) + b)\n",
        "    cost = -(y_train * torch.log(hypothesis) + \n",
        "             (1 - y_train) * torch.log(1 - hypothesis)).mean()\n",
        "\n",
        "    # cost로 H(x) 개선\n",
        "    optimizer.zero_grad()\n",
        "    cost.backward()\n",
        "    optimizer.step()\n",
        "\n",
        "    # 100번마다 로그 출력\n",
        "    if epoch % 100 == 0:\n",
        "        print('Epoch {:4d}/{} Cost: {:.6f}'.format(\n",
        "            epoch, nb_epochs, cost.item()\n",
        "        ))"
      ],
      "execution_count": null,
      "outputs": [
        {
          "output_type": "stream",
          "text": [
            "Epoch    0/1000 Cost: 0.693147\n",
            "Epoch  100/1000 Cost: 0.134722\n",
            "Epoch  200/1000 Cost: 0.080643\n",
            "Epoch  300/1000 Cost: 0.057900\n",
            "Epoch  400/1000 Cost: 0.045300\n",
            "Epoch  500/1000 Cost: 0.037261\n",
            "Epoch  600/1000 Cost: 0.031673\n",
            "Epoch  700/1000 Cost: 0.027556\n",
            "Epoch  800/1000 Cost: 0.024394\n",
            "Epoch  900/1000 Cost: 0.021888\n",
            "Epoch 1000/1000 Cost: 0.019852\n"
          ],
          "name": "stdout"
        }
      ]
    },
    {
      "cell_type": "code",
      "metadata": {
        "id": "PGzVO_t2QECt",
        "colab": {
          "base_uri": "https://localhost:8080/"
        },
        "outputId": "01f758fc-be43-4e26-d66d-0d86f9093a8b"
      },
      "source": [
        "prediction = hypothesis >= torch.FloatTensor([0.5])\n",
        "print(prediction)"
      ],
      "execution_count": null,
      "outputs": [
        {
          "output_type": "stream",
          "text": [
            "tensor([[False],\n",
            "        [False],\n",
            "        [False],\n",
            "        [ True],\n",
            "        [ True],\n",
            "        [ True]])\n"
          ],
          "name": "stdout"
        }
      ]
    },
    {
      "cell_type": "markdown",
      "metadata": {
        "id": "Jl502xWKQREL"
      },
      "source": [
        "### 4.2. nn.Module로 구현하기"
      ]
    },
    {
      "cell_type": "code",
      "metadata": {
        "id": "tBa6mDa0QKTt"
      },
      "source": [
        "x_data = [[1, 2], [2, 3], [3, 1], [4, 3], [5, 3], [6, 2]]\n",
        "y_data = [[0], [0], [0], [1], [1], [1]]\n",
        "x_train = torch.FloatTensor(x_data)\n",
        "y_train = torch.FloatTensor(y_data)"
      ],
      "execution_count": null,
      "outputs": []
    },
    {
      "cell_type": "markdown",
      "metadata": {
        "id": "B-Lcr9mlxgd_"
      },
      "source": [
        "[연습]\n",
        "- data: input_dim=2, output_dim=1"
      ]
    },
    {
      "cell_type": "code",
      "metadata": {
        "id": "0BDMNtLmVMsB"
      },
      "source": [
        "model = nn.Sequential(nn.Linear(2, 1)\n",
        "   , # input_dim = 2, output_dim = 1\n",
        "    nn.Sigmoid()# 출력은 시그모이드 함수를 거친다\n",
        ")"
      ],
      "execution_count": null,
      "outputs": []
    },
    {
      "cell_type": "code",
      "metadata": {
        "id": "YYUoS9HjVOQV",
        "colab": {
          "base_uri": "https://localhost:8080/"
        },
        "outputId": "ad3246db-420c-4a98-c4d0-5ab13b42e5fb"
      },
      "source": [
        "model(x_train)"
      ],
      "execution_count": null,
      "outputs": [
        {
          "output_type": "execute_result",
          "data": {
            "text/plain": [
              "tensor([[0.5092],\n",
              "        [0.5124],\n",
              "        [0.3457],\n",
              "        [0.4034],\n",
              "        [0.3516],\n",
              "        [0.2562]], grad_fn=<SigmoidBackward>)"
            ]
          },
          "metadata": {
            "tags": []
          },
          "execution_count": 22
        }
      ]
    },
    {
      "cell_type": "code",
      "metadata": {
        "id": "bCDKyORzVPrE",
        "colab": {
          "base_uri": "https://localhost:8080/"
        },
        "outputId": "c8d7290d-3fbe-4d09-aff3-35ec83ba1cff"
      },
      "source": [
        "# optimizer 설정\n",
        "optimizer = optim.SGD(model.parameters(), lr=1)\n",
        "\n",
        "nb_epochs = 1000\n",
        "for epoch in range(nb_epochs + 1):\n",
        "\n",
        "    # H(x) 계산\n",
        "    hypothesis = model(x_train)\n",
        "\n",
        "    # cost 계산\n",
        "    cost = F.binary_cross_entropy(hypothesis, y_train)\n",
        "\n",
        "    # cost로 H(x) 개선\n",
        "    optimizer.zero_grad()\n",
        "    cost.backward()\n",
        "    optimizer.step()\n",
        "\n",
        "    # 20번마다 로그 출력\n",
        "    if epoch % 10 == 0:\n",
        "        prediction = hypothesis >= torch.FloatTensor([0.5]) # 예측값이 0.5를 넘으면 True로 간주\n",
        "        correct_prediction = prediction.float() == y_train # 실제값과 일치하는 경우만 True로 간주\n",
        "        accuracy = correct_prediction.sum().item() / len(correct_prediction) # 정확도를 계산\n",
        "        print('Epoch {:4d}/{} Cost: {:.6f} Accuracy {:2.2f}%'.format( # 각 에포크마다 정확도를 출력\n",
        "            epoch, nb_epochs, cost.item(), accuracy * 100,\n",
        "        ))"
      ],
      "execution_count": null,
      "outputs": [
        {
          "output_type": "stream",
          "text": [
            "Epoch    0/1000 Cost: 0.861517 Accuracy 16.67%\n",
            "Epoch   10/1000 Cost: 0.390700 Accuracy 83.33%\n",
            "Epoch   20/1000 Cost: 0.441480 Accuracy 83.33%\n",
            "Epoch   30/1000 Cost: 0.361725 Accuracy 83.33%\n",
            "Epoch   40/1000 Cost: 0.305925 Accuracy 83.33%\n",
            "Epoch   50/1000 Cost: 0.256611 Accuracy 83.33%\n",
            "Epoch   60/1000 Cost: 0.212059 Accuracy 100.00%\n",
            "Epoch   70/1000 Cost: 0.175889 Accuracy 100.00%\n",
            "Epoch   80/1000 Cost: 0.154055 Accuracy 100.00%\n",
            "Epoch   90/1000 Cost: 0.141992 Accuracy 100.00%\n",
            "Epoch  100/1000 Cost: 0.132479 Accuracy 100.00%\n",
            "Epoch  110/1000 Cost: 0.124199 Accuracy 100.00%\n",
            "Epoch  120/1000 Cost: 0.116911 Accuracy 100.00%\n",
            "Epoch  130/1000 Cost: 0.110447 Accuracy 100.00%\n",
            "Epoch  140/1000 Cost: 0.104675 Accuracy 100.00%\n",
            "Epoch  150/1000 Cost: 0.099489 Accuracy 100.00%\n",
            "Epoch  160/1000 Cost: 0.094804 Accuracy 100.00%\n",
            "Epoch  170/1000 Cost: 0.090551 Accuracy 100.00%\n",
            "Epoch  180/1000 Cost: 0.086672 Accuracy 100.00%\n",
            "Epoch  190/1000 Cost: 0.083120 Accuracy 100.00%\n",
            "Epoch  200/1000 Cost: 0.079854 Accuracy 100.00%\n",
            "Epoch  210/1000 Cost: 0.076842 Accuracy 100.00%\n",
            "Epoch  220/1000 Cost: 0.074054 Accuracy 100.00%\n",
            "Epoch  230/1000 Cost: 0.071467 Accuracy 100.00%\n",
            "Epoch  240/1000 Cost: 0.069058 Accuracy 100.00%\n",
            "Epoch  250/1000 Cost: 0.066811 Accuracy 100.00%\n",
            "Epoch  260/1000 Cost: 0.064709 Accuracy 100.00%\n",
            "Epoch  270/1000 Cost: 0.062738 Accuracy 100.00%\n",
            "Epoch  280/1000 Cost: 0.060886 Accuracy 100.00%\n",
            "Epoch  290/1000 Cost: 0.059143 Accuracy 100.00%\n",
            "Epoch  300/1000 Cost: 0.057499 Accuracy 100.00%\n",
            "Epoch  310/1000 Cost: 0.055946 Accuracy 100.00%\n",
            "Epoch  320/1000 Cost: 0.054477 Accuracy 100.00%\n",
            "Epoch  330/1000 Cost: 0.053085 Accuracy 100.00%\n",
            "Epoch  340/1000 Cost: 0.051763 Accuracy 100.00%\n",
            "Epoch  350/1000 Cost: 0.050507 Accuracy 100.00%\n",
            "Epoch  360/1000 Cost: 0.049312 Accuracy 100.00%\n",
            "Epoch  370/1000 Cost: 0.048173 Accuracy 100.00%\n",
            "Epoch  380/1000 Cost: 0.047086 Accuracy 100.00%\n",
            "Epoch  390/1000 Cost: 0.046049 Accuracy 100.00%\n",
            "Epoch  400/1000 Cost: 0.045057 Accuracy 100.00%\n",
            "Epoch  410/1000 Cost: 0.044107 Accuracy 100.00%\n",
            "Epoch  420/1000 Cost: 0.043198 Accuracy 100.00%\n",
            "Epoch  430/1000 Cost: 0.042326 Accuracy 100.00%\n",
            "Epoch  440/1000 Cost: 0.041489 Accuracy 100.00%\n",
            "Epoch  450/1000 Cost: 0.040685 Accuracy 100.00%\n",
            "Epoch  460/1000 Cost: 0.039912 Accuracy 100.00%\n",
            "Epoch  470/1000 Cost: 0.039168 Accuracy 100.00%\n",
            "Epoch  480/1000 Cost: 0.038452 Accuracy 100.00%\n",
            "Epoch  490/1000 Cost: 0.037763 Accuracy 100.00%\n",
            "Epoch  500/1000 Cost: 0.037097 Accuracy 100.00%\n",
            "Epoch  510/1000 Cost: 0.036456 Accuracy 100.00%\n",
            "Epoch  520/1000 Cost: 0.035836 Accuracy 100.00%\n",
            "Epoch  530/1000 Cost: 0.035238 Accuracy 100.00%\n",
            "Epoch  540/1000 Cost: 0.034659 Accuracy 100.00%\n",
            "Epoch  550/1000 Cost: 0.034099 Accuracy 100.00%\n",
            "Epoch  560/1000 Cost: 0.033558 Accuracy 100.00%\n",
            "Epoch  570/1000 Cost: 0.033033 Accuracy 100.00%\n",
            "Epoch  580/1000 Cost: 0.032525 Accuracy 100.00%\n",
            "Epoch  590/1000 Cost: 0.032032 Accuracy 100.00%\n",
            "Epoch  600/1000 Cost: 0.031555 Accuracy 100.00%\n",
            "Epoch  610/1000 Cost: 0.031091 Accuracy 100.00%\n",
            "Epoch  620/1000 Cost: 0.030642 Accuracy 100.00%\n",
            "Epoch  630/1000 Cost: 0.030205 Accuracy 100.00%\n",
            "Epoch  640/1000 Cost: 0.029780 Accuracy 100.00%\n",
            "Epoch  650/1000 Cost: 0.029368 Accuracy 100.00%\n",
            "Epoch  660/1000 Cost: 0.028967 Accuracy 100.00%\n",
            "Epoch  670/1000 Cost: 0.028576 Accuracy 100.00%\n",
            "Epoch  680/1000 Cost: 0.028197 Accuracy 100.00%\n",
            "Epoch  690/1000 Cost: 0.027827 Accuracy 100.00%\n",
            "Epoch  700/1000 Cost: 0.027467 Accuracy 100.00%\n",
            "Epoch  710/1000 Cost: 0.027116 Accuracy 100.00%\n",
            "Epoch  720/1000 Cost: 0.026775 Accuracy 100.00%\n",
            "Epoch  730/1000 Cost: 0.026442 Accuracy 100.00%\n",
            "Epoch  740/1000 Cost: 0.026117 Accuracy 100.00%\n",
            "Epoch  750/1000 Cost: 0.025800 Accuracy 100.00%\n",
            "Epoch  760/1000 Cost: 0.025490 Accuracy 100.00%\n",
            "Epoch  770/1000 Cost: 0.025189 Accuracy 100.00%\n",
            "Epoch  780/1000 Cost: 0.024894 Accuracy 100.00%\n",
            "Epoch  790/1000 Cost: 0.024606 Accuracy 100.00%\n",
            "Epoch  800/1000 Cost: 0.024325 Accuracy 100.00%\n",
            "Epoch  810/1000 Cost: 0.024050 Accuracy 100.00%\n",
            "Epoch  820/1000 Cost: 0.023781 Accuracy 100.00%\n",
            "Epoch  830/1000 Cost: 0.023519 Accuracy 100.00%\n",
            "Epoch  840/1000 Cost: 0.023262 Accuracy 100.00%\n",
            "Epoch  850/1000 Cost: 0.023011 Accuracy 100.00%\n",
            "Epoch  860/1000 Cost: 0.022765 Accuracy 100.00%\n",
            "Epoch  870/1000 Cost: 0.022524 Accuracy 100.00%\n",
            "Epoch  880/1000 Cost: 0.022289 Accuracy 100.00%\n",
            "Epoch  890/1000 Cost: 0.022058 Accuracy 100.00%\n",
            "Epoch  900/1000 Cost: 0.021832 Accuracy 100.00%\n",
            "Epoch  910/1000 Cost: 0.021611 Accuracy 100.00%\n",
            "Epoch  920/1000 Cost: 0.021394 Accuracy 100.00%\n",
            "Epoch  930/1000 Cost: 0.021182 Accuracy 100.00%\n",
            "Epoch  940/1000 Cost: 0.020974 Accuracy 100.00%\n",
            "Epoch  950/1000 Cost: 0.020770 Accuracy 100.00%\n",
            "Epoch  960/1000 Cost: 0.020569 Accuracy 100.00%\n",
            "Epoch  970/1000 Cost: 0.020373 Accuracy 100.00%\n",
            "Epoch  980/1000 Cost: 0.020181 Accuracy 100.00%\n",
            "Epoch  990/1000 Cost: 0.019992 Accuracy 100.00%\n",
            "Epoch 1000/1000 Cost: 0.019806 Accuracy 100.00%\n"
          ],
          "name": "stdout"
        }
      ]
    },
    {
      "cell_type": "code",
      "metadata": {
        "id": "Jaxjjb5UVRtN"
      },
      "source": [],
      "execution_count": null,
      "outputs": []
    },
    {
      "cell_type": "markdown",
      "metadata": {
        "id": "ynIVSpZaVdwE"
      },
      "source": [
        "### 4.3. Class로 Logistic Regression 구현하기"
      ]
    },
    {
      "cell_type": "code",
      "metadata": {
        "id": "DG4Wre9rETx9"
      },
      "source": [
        "import torch"
      ],
      "execution_count": null,
      "outputs": []
    },
    {
      "cell_type": "code",
      "metadata": {
        "id": "GwtVu3OmVhYc"
      },
      "source": [
        "x_data = [[1, 2], [2, 3], [3, 1], [4, 3], [5, 3], [6, 2]]\n",
        "y_data = [[0], [0], [0], [1], [1], [1]]\n",
        "x_train = torch.FloatTensor(x_data)\n",
        "y_train = torch.FloatTensor(y_data)"
      ],
      "execution_count": null,
      "outputs": []
    },
    {
      "cell_type": "code",
      "metadata": {
        "id": "Wx6kViJe-LT_"
      },
      "source": [
        "# Custom Dataset\n",
        "class CustomDataset(torch.utils.data.Dataset): \n",
        "  def __init__(self):\n",
        "    # 데이터 전처리\n",
        "    self.x_data = [[1, 2], [2, 3], [3, 1], [4, 3], [5, 3], [6, 2]]\n",
        "    self.y_data = [[0], [0], [0], [1], [1], [1]]\n",
        "\n",
        "  def __len__(self):\n",
        "    # 데이터셋의 길이, # of samples\n",
        "    return len(self.x_data)\n",
        "\n",
        "  def __getitem__(self, idx):\n",
        "    # 특정 idx에 대한 return 값을 정의\n",
        "    x = torch.FloatTensor(self.x_data[idx])\n",
        "    y = torch.FloatTensor(self.y_data[idx])\n",
        "    return x, y"
      ],
      "execution_count": null,
      "outputs": []
    },
    {
      "cell_type": "code",
      "metadata": {
        "id": "dE17q6Fa_Csu"
      },
      "source": [
        "from torch.utils.data import DataLoader # 데이터로더\n",
        "\n",
        "dataset = CustomDataset()\n",
        "data_loader = DataLoader(dataset, batch_size=2)"
      ],
      "execution_count": null,
      "outputs": []
    },
    {
      "cell_type": "code",
      "metadata": {
        "id": "-VBDz1XfVn4W"
      },
      "source": [
        "import torch.nn as nn\n",
        "class BinaryClassifier(nn.Module):\n",
        "    def __init__(self):\n",
        "        super().__init__()\n",
        "        self.linear = nn.Linear(2, 1)\n",
        "        self.sigmoid = nn.Sigmoid()\n",
        "        # self.layers = nn.Sequential(nn.Linear(2, 1), nn.Sigmoid())\n",
        "\n",
        "    def forward(self, x):\n",
        "        x = self.linear(x)\n",
        "        out = self.sigmoid(x)\n",
        "        # out = self.layers(x)\n",
        "        return out"
      ],
      "execution_count": null,
      "outputs": []
    },
    {
      "cell_type": "code",
      "metadata": {
        "id": "iZs_p2-ZJ5_p",
        "colab": {
          "base_uri": "https://localhost:8080/",
          "height": 391
        },
        "outputId": "a2a5e83d-fde7-487e-f234-9023a9cb75e1"
      },
      "source": [
        "import torch.optim as optim\n",
        "# Model object\n",
        "model = BinaryClassifier().cuda()\n",
        "# Optimizer\n",
        "optimizer = optim.SGD(model.parameters(), lr=0.01)\n",
        "# Training\n",
        "for epoch in range(1000):\n",
        "  for i, samples in enumerate(data_loader):\n",
        "    x, y = samples\n",
        "    x = x.cuda()\n",
        "    y = y.cuda()\n",
        "    pred = model(x)\n",
        "\n",
        "    cost = F.binary_cross_entropy(pred, y)\n",
        "\n",
        "    optimizer.zero_grad()\n",
        "    cost.backward()\n",
        "    optimizer.step()\n",
        "  \n",
        "  if epoch % 10 == 0:\n",
        "    print(\"Epoch: {}\\tCost value {}\".format(epoch, cost.item()))\n",
        "\n",
        "\n"
      ],
      "execution_count": null,
      "outputs": [
        {
          "output_type": "error",
          "ename": "RuntimeError",
          "evalue": "ignored",
          "traceback": [
            "\u001b[0;31m---------------------------------------------------------------------------\u001b[0m",
            "\u001b[0;31mRuntimeError\u001b[0m                              Traceback (most recent call last)",
            "\u001b[0;32m<ipython-input-17-6a2f344ba66d>\u001b[0m in \u001b[0;36m<module>\u001b[0;34m()\u001b[0m\n\u001b[1;32m      1\u001b[0m \u001b[0;32mimport\u001b[0m \u001b[0mtorch\u001b[0m\u001b[0;34m.\u001b[0m\u001b[0moptim\u001b[0m \u001b[0;32mas\u001b[0m \u001b[0moptim\u001b[0m\u001b[0;34m\u001b[0m\u001b[0;34m\u001b[0m\u001b[0m\n\u001b[1;32m      2\u001b[0m \u001b[0;31m# Model object\u001b[0m\u001b[0;34m\u001b[0m\u001b[0;34m\u001b[0m\u001b[0;34m\u001b[0m\u001b[0m\n\u001b[0;32m----> 3\u001b[0;31m \u001b[0mmodel\u001b[0m \u001b[0;34m=\u001b[0m \u001b[0mBinaryClassifier\u001b[0m\u001b[0;34m(\u001b[0m\u001b[0;34m)\u001b[0m\u001b[0;34m.\u001b[0m\u001b[0mcuda\u001b[0m\u001b[0;34m(\u001b[0m\u001b[0;34m)\u001b[0m\u001b[0;34m\u001b[0m\u001b[0;34m\u001b[0m\u001b[0m\n\u001b[0m\u001b[1;32m      4\u001b[0m \u001b[0;31m# Optimizer\u001b[0m\u001b[0;34m\u001b[0m\u001b[0;34m\u001b[0m\u001b[0;34m\u001b[0m\u001b[0m\n\u001b[1;32m      5\u001b[0m \u001b[0moptimizer\u001b[0m \u001b[0;34m=\u001b[0m \u001b[0moptim\u001b[0m\u001b[0;34m.\u001b[0m\u001b[0mSGD\u001b[0m\u001b[0;34m(\u001b[0m\u001b[0mmodel\u001b[0m\u001b[0;34m.\u001b[0m\u001b[0mparameters\u001b[0m\u001b[0;34m(\u001b[0m\u001b[0;34m)\u001b[0m\u001b[0;34m,\u001b[0m \u001b[0mlr\u001b[0m\u001b[0;34m=\u001b[0m\u001b[0;36m0.01\u001b[0m\u001b[0;34m)\u001b[0m\u001b[0;34m\u001b[0m\u001b[0;34m\u001b[0m\u001b[0m\n",
            "\u001b[0;32m/usr/local/lib/python3.6/dist-packages/torch/nn/modules/module.py\u001b[0m in \u001b[0;36mcuda\u001b[0;34m(self, device)\u001b[0m\n\u001b[1;32m    456\u001b[0m             \u001b[0mModule\u001b[0m\u001b[0;34m:\u001b[0m \u001b[0mself\u001b[0m\u001b[0;34m\u001b[0m\u001b[0;34m\u001b[0m\u001b[0m\n\u001b[1;32m    457\u001b[0m         \"\"\"\n\u001b[0;32m--> 458\u001b[0;31m         \u001b[0;32mreturn\u001b[0m \u001b[0mself\u001b[0m\u001b[0;34m.\u001b[0m\u001b[0m_apply\u001b[0m\u001b[0;34m(\u001b[0m\u001b[0;32mlambda\u001b[0m \u001b[0mt\u001b[0m\u001b[0;34m:\u001b[0m \u001b[0mt\u001b[0m\u001b[0;34m.\u001b[0m\u001b[0mcuda\u001b[0m\u001b[0;34m(\u001b[0m\u001b[0mdevice\u001b[0m\u001b[0;34m)\u001b[0m\u001b[0;34m)\u001b[0m\u001b[0;34m\u001b[0m\u001b[0;34m\u001b[0m\u001b[0m\n\u001b[0m\u001b[1;32m    459\u001b[0m \u001b[0;34m\u001b[0m\u001b[0m\n\u001b[1;32m    460\u001b[0m     \u001b[0;32mdef\u001b[0m \u001b[0mcpu\u001b[0m\u001b[0;34m(\u001b[0m\u001b[0mself\u001b[0m\u001b[0;34m:\u001b[0m \u001b[0mT\u001b[0m\u001b[0;34m)\u001b[0m \u001b[0;34m->\u001b[0m \u001b[0mT\u001b[0m\u001b[0;34m:\u001b[0m\u001b[0;34m\u001b[0m\u001b[0;34m\u001b[0m\u001b[0m\n",
            "\u001b[0;32m/usr/local/lib/python3.6/dist-packages/torch/nn/modules/module.py\u001b[0m in \u001b[0;36m_apply\u001b[0;34m(self, fn)\u001b[0m\n\u001b[1;32m    352\u001b[0m     \u001b[0;32mdef\u001b[0m \u001b[0m_apply\u001b[0m\u001b[0;34m(\u001b[0m\u001b[0mself\u001b[0m\u001b[0;34m,\u001b[0m \u001b[0mfn\u001b[0m\u001b[0;34m)\u001b[0m\u001b[0;34m:\u001b[0m\u001b[0;34m\u001b[0m\u001b[0;34m\u001b[0m\u001b[0m\n\u001b[1;32m    353\u001b[0m         \u001b[0;32mfor\u001b[0m \u001b[0mmodule\u001b[0m \u001b[0;32min\u001b[0m \u001b[0mself\u001b[0m\u001b[0;34m.\u001b[0m\u001b[0mchildren\u001b[0m\u001b[0;34m(\u001b[0m\u001b[0;34m)\u001b[0m\u001b[0;34m:\u001b[0m\u001b[0;34m\u001b[0m\u001b[0;34m\u001b[0m\u001b[0m\n\u001b[0;32m--> 354\u001b[0;31m             \u001b[0mmodule\u001b[0m\u001b[0;34m.\u001b[0m\u001b[0m_apply\u001b[0m\u001b[0;34m(\u001b[0m\u001b[0mfn\u001b[0m\u001b[0;34m)\u001b[0m\u001b[0;34m\u001b[0m\u001b[0;34m\u001b[0m\u001b[0m\n\u001b[0m\u001b[1;32m    355\u001b[0m \u001b[0;34m\u001b[0m\u001b[0m\n\u001b[1;32m    356\u001b[0m         \u001b[0;32mdef\u001b[0m \u001b[0mcompute_should_use_set_data\u001b[0m\u001b[0;34m(\u001b[0m\u001b[0mtensor\u001b[0m\u001b[0;34m,\u001b[0m \u001b[0mtensor_applied\u001b[0m\u001b[0;34m)\u001b[0m\u001b[0;34m:\u001b[0m\u001b[0;34m\u001b[0m\u001b[0;34m\u001b[0m\u001b[0m\n",
            "\u001b[0;32m/usr/local/lib/python3.6/dist-packages/torch/nn/modules/module.py\u001b[0m in \u001b[0;36m_apply\u001b[0;34m(self, fn)\u001b[0m\n\u001b[1;32m    374\u001b[0m                 \u001b[0;31m# `with torch.no_grad():`\u001b[0m\u001b[0;34m\u001b[0m\u001b[0;34m\u001b[0m\u001b[0;34m\u001b[0m\u001b[0m\n\u001b[1;32m    375\u001b[0m                 \u001b[0;32mwith\u001b[0m \u001b[0mtorch\u001b[0m\u001b[0;34m.\u001b[0m\u001b[0mno_grad\u001b[0m\u001b[0;34m(\u001b[0m\u001b[0;34m)\u001b[0m\u001b[0;34m:\u001b[0m\u001b[0;34m\u001b[0m\u001b[0;34m\u001b[0m\u001b[0m\n\u001b[0;32m--> 376\u001b[0;31m                     \u001b[0mparam_applied\u001b[0m \u001b[0;34m=\u001b[0m \u001b[0mfn\u001b[0m\u001b[0;34m(\u001b[0m\u001b[0mparam\u001b[0m\u001b[0;34m)\u001b[0m\u001b[0;34m\u001b[0m\u001b[0;34m\u001b[0m\u001b[0m\n\u001b[0m\u001b[1;32m    377\u001b[0m                 \u001b[0mshould_use_set_data\u001b[0m \u001b[0;34m=\u001b[0m \u001b[0mcompute_should_use_set_data\u001b[0m\u001b[0;34m(\u001b[0m\u001b[0mparam\u001b[0m\u001b[0;34m,\u001b[0m \u001b[0mparam_applied\u001b[0m\u001b[0;34m)\u001b[0m\u001b[0;34m\u001b[0m\u001b[0;34m\u001b[0m\u001b[0m\n\u001b[1;32m    378\u001b[0m                 \u001b[0;32mif\u001b[0m \u001b[0mshould_use_set_data\u001b[0m\u001b[0;34m:\u001b[0m\u001b[0;34m\u001b[0m\u001b[0;34m\u001b[0m\u001b[0m\n",
            "\u001b[0;32m/usr/local/lib/python3.6/dist-packages/torch/nn/modules/module.py\u001b[0m in \u001b[0;36m<lambda>\u001b[0;34m(t)\u001b[0m\n\u001b[1;32m    456\u001b[0m             \u001b[0mModule\u001b[0m\u001b[0;34m:\u001b[0m \u001b[0mself\u001b[0m\u001b[0;34m\u001b[0m\u001b[0;34m\u001b[0m\u001b[0m\n\u001b[1;32m    457\u001b[0m         \"\"\"\n\u001b[0;32m--> 458\u001b[0;31m         \u001b[0;32mreturn\u001b[0m \u001b[0mself\u001b[0m\u001b[0;34m.\u001b[0m\u001b[0m_apply\u001b[0m\u001b[0;34m(\u001b[0m\u001b[0;32mlambda\u001b[0m \u001b[0mt\u001b[0m\u001b[0;34m:\u001b[0m \u001b[0mt\u001b[0m\u001b[0;34m.\u001b[0m\u001b[0mcuda\u001b[0m\u001b[0;34m(\u001b[0m\u001b[0mdevice\u001b[0m\u001b[0;34m)\u001b[0m\u001b[0;34m)\u001b[0m\u001b[0;34m\u001b[0m\u001b[0;34m\u001b[0m\u001b[0m\n\u001b[0m\u001b[1;32m    459\u001b[0m \u001b[0;34m\u001b[0m\u001b[0m\n\u001b[1;32m    460\u001b[0m     \u001b[0;32mdef\u001b[0m \u001b[0mcpu\u001b[0m\u001b[0;34m(\u001b[0m\u001b[0mself\u001b[0m\u001b[0;34m:\u001b[0m \u001b[0mT\u001b[0m\u001b[0;34m)\u001b[0m \u001b[0;34m->\u001b[0m \u001b[0mT\u001b[0m\u001b[0;34m:\u001b[0m\u001b[0;34m\u001b[0m\u001b[0;34m\u001b[0m\u001b[0m\n",
            "\u001b[0;31mRuntimeError\u001b[0m: CUDA error: an illegal memory access was encountered"
          ]
        }
      ]
    },
    {
      "cell_type": "code",
      "metadata": {
        "id": "x_XxWqMOAYXL"
      },
      "source": [],
      "execution_count": null,
      "outputs": []
    }
  ]
}